{
 "cells": [
  {
   "cell_type": "code",
   "execution_count": 1,
   "id": "efbae49e",
   "metadata": {},
   "outputs": [],
   "source": [
    "import numpy as np\n",
    "from io import BytesIO\n",
    "from PIL import Image\n",
    "import tensorflow as tf"
   ]
  },
  {
   "cell_type": "code",
   "execution_count": 2,
   "id": "aafc338e",
   "metadata": {},
   "outputs": [],
   "source": [
    "MODEL = tf.keras.models.load_model(\"Sign.h5\")\n",
    "CLASS_NAMES = ['0','1','2','3','4','5','6','7','8','9','A','B','C','D','E','F','G','H','I','J','K','L','M','N','O','P','Q','R','S','T','U','V','W','X','Y','Z']"
   ]
  },
  {
   "cell_type": "code",
   "execution_count": 3,
   "id": "7c7f59c3",
   "metadata": {},
   "outputs": [],
   "source": [
    "img_path = 'Test3.jpg'\n",
    "im = Image.open(img_path)\n",
    "im = im.resize((256,256),resample = 0)\n",
    "im.show()"
   ]
  },
  {
   "cell_type": "code",
   "execution_count": 4,
   "id": "6d5bbd26",
   "metadata": {},
   "outputs": [
    {
     "name": "stdout",
     "output_type": "stream",
     "text": [
      "1/1 [==============================] - 0s 199ms/step\n"
     ]
    }
   ],
   "source": [
    "image = np.array(im)\n",
    "img_batch = np.expand_dims(image, 0)\n",
    "predictions = MODEL.predict(img_batch)\n",
    "predicted_class = CLASS_NAMES[np.argmax(predictions[0])]\n",
    "confidence = np.max(predictions[0])"
   ]
  },
  {
   "cell_type": "code",
   "execution_count": 5,
   "id": "dec1eb49",
   "metadata": {},
   "outputs": [
    {
     "name": "stdout",
     "output_type": "stream",
     "text": [
      "The alphabet or number classified is: W\n",
      "With a confidence of: 0.9999995\n"
     ]
    }
   ],
   "source": [
    "print('The alphabet or number classified is:',predicted_class)\n",
    "print('With a confidence of:',confidence)"
   ]
  },
  {
   "cell_type": "code",
   "execution_count": null,
   "id": "c7ea91a9",
   "metadata": {},
   "outputs": [],
   "source": []
  }
 ],
 "metadata": {
  "kernelspec": {
   "display_name": "Python 3 (ipykernel)",
   "language": "python",
   "name": "python3"
  },
  "language_info": {
   "codemirror_mode": {
    "name": "ipython",
    "version": 3
   },
   "file_extension": ".py",
   "mimetype": "text/x-python",
   "name": "python",
   "nbconvert_exporter": "python",
   "pygments_lexer": "ipython3",
   "version": "3.9.12"
  }
 },
 "nbformat": 4,
 "nbformat_minor": 5
}
